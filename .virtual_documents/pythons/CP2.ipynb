


import numpy as np
import sympy as sym
import matplotlib.pyplot as plt
import ipywidgets as widgets
from ipywidgets import interact, FloatSlider
from matplotlib.animation import FuncAnimation
from matplotlib import animation
from IPython.display import HTML
from matplotlib import rc








# Define the symbols and functions
z, L, EA, F0, rho, E = sym.symbols('z L EA F0 rho E')
omega, t = sym.symbols('omega t')
u = sym.Function('u')(z)

# Define the differential equation
diffeq = sym.Eq(E * u.diff(z, 2), -omega**2*rho * u)

# Solve the differential equation
u_general = sym.dsolve(diffeq, u)
A, B = sym.symbols('C1 C2')
u_general = u_general.rhs
display(u_general)

# Define the boundary conditions
du_dz = u_general.diff(z)
bc1 = sym.Eq(EA * du_dz.subs(z, 0), -F0)
bc2 = sym.Eq(u_general.subs(z, L), 0)

# Solve for the constants A and B
constants = sym.solve([bc1, bc2], (A, B))
display(constants[A])
display(constants[B])

# Substitute the constants back into the general solution
u_solution = u_general.subs(constants)

# Simplify the solution for better readability
u_solution_simplified = sym.simplify(u_solution)
display(u_solution_simplified)

# Compute the time-dependent solution
u_solution_xt = u_solution_simplified * sym.exp(omega * t)
display(u_solution_xt)

# Create a lambda function from the symbolic expression
U_func = sym.lambdify((z, L, EA, F0, rho, E, omega, t), u_solution_xt, 'numpy')


# define displacement field
def displacement(z, L, EA, F0, rho, E, omega, t):
    term1 = (E * F0**2 * (-rho / E)**0.5 *
             (-np.exp(2 * L * omega * (-rho / E)**0.5) + np.exp(2 * omega * z * (-rho / E)**0.5)) *
             np.exp(1j * omega * t) *
             np.exp(-omega * z * (-rho / E)**0.5))
    
    term2 = (EA * omega * rho *
             (np.exp(2 * L * omega * (-rho / E)**0.5) + 1))
    
    return term1 / term2

# numerical values
L_val = 200
EA_val = 2e10*0.09
F0_val = 1
E_val = 1
rho_val = 2400
omega_val = 0.01

# create animations
z_vals = np.linspace(0, L_val, 1000)
t_series = np.linspace(0, 2 * np.pi / omega_val, 100)  # 一个完整周期
amplitude_scaling = 1  # 缩放因子以更好地可视化

# initialize the plot
fig, ax = plt.subplots()
line_real, = ax.plot(z_vals, amplitude_scaling * displacement(z_vals, L_val, EA_val, F0_val, rho_val, E_val, omega_val, 0).real, label='Real part')
ax.set_xlim(0, L_val)
ax.set_xlabel('Position [m]')
ax.set_ylabel('Displacement [m]')
time_template = 'time = %.3fs'
time_text = ax.text(0.05, 0.9, '', transform=ax.transAxes)

# updated plots
def update_plot(step):
    t_val = t_series[step]
    u_vals = displacement(z_vals, L_val, EA_val, F0_val, rho_val, E_val, omega_val, t_val)
    line_real.set_ydata(amplitude_scaling * u_vals.real)
    time_text.set_text(time_template % (t_val))
    return line_real, time_text

# 创建动画
ani = FuncAnimation(fig, update_plot, frames=len(t_series), interval=50, blit=True)

# 显示动画
display(HTML(ani.to_jshtml()))





# define variables
t = sym.symbols('t')
zeta_sym, omega_m_sym, F0_sym, m_bar_sym, omega_sym = sym.symbols('zeta omega_m F0 m_bar omega')
q_m = sym.Function('q_m')(t)

# define equations of motion
ode = sym.Eq(q_m.diff(t, t) + omega_m_sym**2*q_m+2*zeta_sym*omega_m_sym*q_m.diff(t), F0_sym/m_bar_sym * sym.cos(omega_sym*t))

# 解方程并应用初始条件
sol = sym.dsolve(ode, q_m, ics={q_m.subs(t, 0): 0, q_m.diff(t).subs(t, 0): 0})

# 提取解析解表达式
q_m_sol = sol.rhs

# 输出解以确认
display(sym.simplify(q_m_sol))


def particular_solution(F0, zeta, omega, omega_m, t, m_bar):
    term1 = (zeta**2 - 1)**0.5 * (-omega**2 * zeta + omega**2 * (zeta**2 - 1)**0.5 - omega_m**2 * zeta - omega_m**2 * (zeta**2 - 1)**0.5)
    term2 = (zeta**2 - 1)**0.5 * (omega**2 * zeta + omega**2 * (zeta**2 - 1)**0.5 + omega_m**2 * zeta - omega_m**2 * (zeta**2 - 1)**0.5)
    term3 = 2 * (zeta**2 - 1) * (-omega**2 * np.cos(omega * t) + 2 * omega * omega_m * zeta * np.sin(omega * t) + omega_m**2 * np.cos(omega * t))
    
    exp1 = np.exp(omega_m * t * (zeta + (zeta**2 - 1)**0.5))
    exp2 = np.exp(omega_m * t * (zeta - (zeta**2 - 1)**0.5))
    exp3 = np.exp(2 * omega_m * t * zeta)
    exp4 = np.exp(-2 * omega_m * t * zeta)
    
    numerator = F0 * (term1 * exp1 + term2 * exp2 + term3 * exp3) * exp4
    denominator = 2 * m_bar * (zeta**2 - 1) * (omega**4 + 4 * omega**2 * omega_m**2 * zeta**2 - 2 * omega**2 * omega_m**2 + omega_m**4)
    
    return numerator / denominator


def modal_expansion(L, density, area, young_modulus, force_amplitude, forcing_freq, damping_ratio, num_terms, z_vals, t_vals):
    """
    Compute the displacement u(z, t) using modal expansion.

    Parameters:
    L (float): Length of the bar.
    density (float): Density.
    area (float): Cross-sectional area.
    young_modulus (float): Young's modulus.
    force_amplitude (float): Amplitude of the forcing function.
    forcing_freq (float): Frequency of the forcing function.
    damping_ratio (float): Damping ratio.
    num_terms (int): Number of terms in the series expansion.
    z_vals (array): Array of spatial positions.
    t_vals (array): Array of time values.

    Returns:
    u (2D array): Displacement values for each z and t.
    """
    
    # 计算 beta_n 和 omega_n
    beta_n = [(2 * n - 1) * np.pi / (2 * L) for n in range(1, num_terms + 1)]
    omega_n = [beta * np.sqrt(young_modulus / density) for beta in beta_n]
    
    # 初始化位移矩阵
    u = np.zeros((len(z_vals), len(t_vals)), dtype=complex)
    
    m_bar = density * area * L
    
    for n in range(1, num_terms + 1):
        phi_n = np.cos((2 * n - 1) * np.pi * z_vals[:, np.newaxis] / (2 * L))
        
        for j, t_val in enumerate(t_vals):
            q_p_val = particular_solution(force_amplitude, damping_ratio, forcing_freq, omega_n[n-1], t_val, m_bar)
            q_h_val = (force_amplitude * (forcing_freq**2 + omega_n[n-1]**2) * np.exp(omega_n[n-1] * t_val * (-damping_ratio + (damping_ratio**2 - 1)**0.5)) + 
                      force_amplitude * (forcing_freq**2 - omega_n[n-1]**2) * np.exp(omega_n[n-1] * t_val * (-damping_ratio - (damping_ratio**2 - 1)**0.5))) / m_bar
            q_n_val = q_p_val + q_h_val
            u[:, j] += q_n_val.real * phi_n[:, 0]
    
    return u

# 示例参数
L = 40
density = 2400
area = 0.09
young_modulus = 2e10
force_amplitude = 20
forcing_freq = 0.5
damping_ratio = 5e-5
num_terms = 50
z_vals = np.linspace(0, L, 400)
t_vals = np.linspace(0, 4*L/np.sqrt(2e10/2400), 200)

# 计算位移
u = modal_expansion(L, density, area, young_modulus, force_amplitude, forcing_freq, damping_ratio, num_terms, z_vals, t_vals)


print(np.array([(2*n - 1) * np.pi / (2 * L_val) for n in range(1, N_val+1)])*np.sqrt(E_val/rho_val))


plt.plot(z_vals, u[:,-1].real);


# initial plots
fig, ax = plt.subplots()
line, = ax.plot(z_vals, -u[:,0].real, lw=2)
ax.set_xlabel('Position [m]')
ax.set_ylabel('Displacement [m]')
ax.set_ylim(-0.04,0.04)
ax.axhline(y=0, color='red', linestyle='--', linewidth=0.5, label='Baseline')
ax.set_title('Propogating wave without dispersion')
time_template = 'time = %.3fs'
time_text = ax.text(0.05, 0.9, '', transform=ax.transAxes)

# updating plots every time
def update_plot_transcient(step):
    line.set_ydata(-u[:, step].real)
    # time_text.set_text(time_template % t_transcient[step])
    return line, time_text

# create animations
ani = FuncAnimation(fig, update_plot_transcient, frames=len(t_vals), interval=50, blit=True)

# display animdations
display(HTML(ani.to_jshtml()))
